{
  "cells": [
    {
      "cell_type": "markdown",
      "metadata": {
        "id": "clwAvYVcapRs"
      },
      "source": [
        "Hi!\n",
        "\n",
        "This project will be analyzing and performing data analysis on a dataset consisting of cars being used for rental.\n",
        "\n",
        "The CSV includes 3000-5000 items."
      ]
    },
    {
      "cell_type": "markdown",
      "metadata": {
        "id": "eT1sTKIUel44"
      },
      "source": [
        "## Import necessary libraries"
      ]
    },
    {
      "cell_type": "code",
      "execution_count": 1,
      "metadata": {
        "id": "3fOz6uL7elTT"
      },
      "outputs": [],
      "source": [
        "import pandas as pd\n",
        "import numpy as np\n",
        "import matplotlib.pyplot as plt\n",
        "import seaborn as sns\n",
        "from sklearn.linear_model import LinearRegression\n",
        "from sklearn.model_selection import train_test_split\n",
        "from sklearn.metrics import mean_squared_error, r2_score"
      ]
    },
    {
      "cell_type": "markdown",
      "metadata": {
        "id": "mtJ7e_8jecw0"
      },
      "source": [
        "### Load CSV"
      ]
    },
    {
      "cell_type": "code",
      "execution_count": 7,
      "metadata": {
        "colab": {
          "base_uri": "https://localhost:8080/",
          "height": 660
        },
        "id": "rPiwCYvcebjZ",
        "outputId": "b65969c6-a2c7-4755-f2b9-911b98c8b696"
      },
      "outputs": [
        {
          "name": "stdout",
          "output_type": "stream",
          "text": [
            "\n",
            "Dataset Info:\n",
            "<class 'pandas.core.frame.DataFrame'>\n",
            "RangeIndex: 5851 entries, 0 to 5850\n",
            "Data columns (total 15 columns):\n",
            " #   Column              Non-Null Count  Dtype  \n",
            "---  ------              --------------  -----  \n",
            " 0   fuelType            5776 non-null   object \n",
            " 1   rating              5350 non-null   float64\n",
            " 2   renterTripsTaken    5851 non-null   int64  \n",
            " 3   reviewCount         5851 non-null   int64  \n",
            " 4   location.city       5851 non-null   object \n",
            " 5   location.country    5851 non-null   object \n",
            " 6   location.latitude   5851 non-null   float64\n",
            " 7   location.longitude  5851 non-null   float64\n",
            " 8   location.state      5851 non-null   object \n",
            " 9   owner.id            5851 non-null   int64  \n",
            " 10  rate.daily          5851 non-null   int64  \n",
            " 11  vehicle.make        5851 non-null   object \n",
            " 12  vehicle.model       5851 non-null   object \n",
            " 13  vehicle.type        5851 non-null   object \n",
            " 14  vehicle.year        5851 non-null   int64  \n",
            "dtypes: float64(3), int64(5), object(7)\n",
            "memory usage: 685.8+ KB\n",
            "First 5 rows of the dataset:\n"
          ]
        },
        {
          "data": {
            "application/vnd.google.colaboratory.intrinsic+json": {
              "summary": "{\n  \"name\": \"data\",\n  \"rows\": 5851,\n  \"fields\": [\n    {\n      \"column\": \"fuelType\",\n      \"properties\": {\n        \"dtype\": \"category\",\n        \"num_unique_values\": 4,\n        \"samples\": [\n          \"HYBRID\",\n          \"DIESEL\",\n          \"ELECTRIC\"\n        ],\n        \"semantic_type\": \"\",\n        \"description\": \"\"\n      }\n    },\n    {\n      \"column\": \"rating\",\n      \"properties\": {\n        \"dtype\": \"number\",\n        \"std\": 0.18242525703752618,\n        \"min\": 1.0,\n        \"max\": 5.0,\n        \"num_unique_values\": 80,\n        \"samples\": [\n          4.51,\n          5.0,\n          4.99\n        ],\n        \"semantic_type\": \"\",\n        \"description\": \"\"\n      }\n    },\n    {\n      \"column\": \"renterTripsTaken\",\n      \"properties\": {\n        \"dtype\": \"number\",\n        \"std\": 41,\n        \"min\": 0,\n        \"max\": 395,\n        \"num_unique_values\": 238,\n        \"samples\": [\n          172,\n          4,\n          162\n        ],\n        \"semantic_type\": \"\",\n        \"description\": \"\"\n      }\n    },\n    {\n      \"column\": \"reviewCount\",\n      \"properties\": {\n        \"dtype\": \"number\",\n        \"std\": 35,\n        \"min\": 0,\n        \"max\": 321,\n        \"num_unique_values\": 203,\n        \"samples\": [\n          18,\n          56,\n          108\n        ],\n        \"semantic_type\": \"\",\n        \"description\": \"\"\n      }\n    },\n    {\n      \"column\": \"location.city\",\n      \"properties\": {\n        \"dtype\": \"category\",\n        \"num_unique_values\": 971,\n        \"samples\": [\n          \"North Royalton\",\n          \"Los Gatos\",\n          \"Cromwell\"\n        ],\n        \"semantic_type\": \"\",\n        \"description\": \"\"\n      }\n    },\n    {\n      \"column\": \"location.country\",\n      \"properties\": {\n        \"dtype\": \"category\",\n        \"num_unique_values\": 1,\n        \"samples\": [\n          \"US\"\n        ],\n        \"semantic_type\": \"\",\n        \"description\": \"\"\n      }\n    },\n    {\n      \"column\": \"location.latitude\",\n      \"properties\": {\n        \"dtype\": \"number\",\n        \"std\": 6.431408483050627,\n        \"min\": 21.272565,\n        \"max\": 64.89361,\n        \"num_unique_values\": 5839,\n        \"samples\": [\n          47.147336\n        ],\n        \"semantic_type\": \"\",\n        \"description\": \"\"\n      }\n    },\n    {\n      \"column\": \"location.longitude\",\n      \"properties\": {\n        \"dtype\": \"number\",\n        \"std\": 20.391476326143014,\n        \"min\": -158.165693,\n        \"max\": -68.823637,\n        \"num_unique_values\": 5834,\n        \"samples\": [\n          -87.753159\n        ],\n        \"semantic_type\": \"\",\n        \"description\": \"\"\n      }\n    },\n    {\n      \"column\": \"location.state\",\n      \"properties\": {\n        \"dtype\": \"category\",\n        \"num_unique_values\": 46,\n        \"samples\": [\n          \"PA\"\n        ],\n        \"semantic_type\": \"\",\n        \"description\": \"\"\n      }\n    },\n    {\n      \"column\": \"owner.id\",\n      \"properties\": {\n        \"dtype\": \"number\",\n        \"std\": 4646021,\n        \"min\": 5105,\n        \"max\": 15810882,\n        \"num_unique_values\": 3093,\n        \"samples\": [\n          254719\n        ],\n        \"semantic_type\": \"\",\n        \"description\": \"\"\n      }\n    },\n    {\n      \"column\": \"rate.daily\",\n      \"properties\": {\n        \"dtype\": \"number\",\n        \"std\": 96,\n        \"min\": 20,\n        \"max\": 1500,\n        \"num_unique_values\": 294,\n        \"samples\": [\n          98\n        ],\n        \"semantic_type\": \"\",\n        \"description\": \"\"\n      }\n    },\n    {\n      \"column\": \"vehicle.make\",\n      \"properties\": {\n        \"dtype\": \"category\",\n        \"num_unique_values\": 54,\n        \"samples\": [\n          \"BMW\"\n        ],\n        \"semantic_type\": \"\",\n        \"description\": \"\"\n      }\n    },\n    {\n      \"column\": \"vehicle.model\",\n      \"properties\": {\n        \"dtype\": \"category\",\n        \"num_unique_values\": 526,\n        \"samples\": [\n          \"6\"\n        ],\n        \"semantic_type\": \"\",\n        \"description\": \"\"\n      }\n    },\n    {\n      \"column\": \"vehicle.type\",\n      \"properties\": {\n        \"dtype\": \"category\",\n        \"num_unique_values\": 5,\n        \"samples\": [\n          \"car\"\n        ],\n        \"semantic_type\": \"\",\n        \"description\": \"\"\n      }\n    },\n    {\n      \"column\": \"vehicle.year\",\n      \"properties\": {\n        \"dtype\": \"number\",\n        \"std\": 4,\n        \"min\": 1955,\n        \"max\": 2020,\n        \"num_unique_values\": 34,\n        \"samples\": [\n          2006\n        ],\n        \"semantic_type\": \"\",\n        \"description\": \"\"\n      }\n    }\n  ]\n}",
              "type": "dataframe",
              "variable_name": "data"
            },
            "text/html": [
              "\n",
              "  <div id=\"df-8b9d3236-5fec-43e4-aa54-633b39777bbf\" class=\"colab-df-container\">\n",
              "    <div>\n",
              "<style scoped>\n",
              "    .dataframe tbody tr th:only-of-type {\n",
              "        vertical-align: middle;\n",
              "    }\n",
              "\n",
              "    .dataframe tbody tr th {\n",
              "        vertical-align: top;\n",
              "    }\n",
              "\n",
              "    .dataframe thead th {\n",
              "        text-align: right;\n",
              "    }\n",
              "</style>\n",
              "<table border=\"1\" class=\"dataframe\">\n",
              "  <thead>\n",
              "    <tr style=\"text-align: right;\">\n",
              "      <th></th>\n",
              "      <th>fuelType</th>\n",
              "      <th>rating</th>\n",
              "      <th>renterTripsTaken</th>\n",
              "      <th>reviewCount</th>\n",
              "      <th>location.city</th>\n",
              "      <th>location.country</th>\n",
              "      <th>location.latitude</th>\n",
              "      <th>location.longitude</th>\n",
              "      <th>location.state</th>\n",
              "      <th>owner.id</th>\n",
              "      <th>rate.daily</th>\n",
              "      <th>vehicle.make</th>\n",
              "      <th>vehicle.model</th>\n",
              "      <th>vehicle.type</th>\n",
              "      <th>vehicle.year</th>\n",
              "    </tr>\n",
              "  </thead>\n",
              "  <tbody>\n",
              "    <tr>\n",
              "      <th>0</th>\n",
              "      <td>ELECTRIC</td>\n",
              "      <td>5.00</td>\n",
              "      <td>13</td>\n",
              "      <td>12</td>\n",
              "      <td>Seattle</td>\n",
              "      <td>US</td>\n",
              "      <td>47.449107</td>\n",
              "      <td>-122.308841</td>\n",
              "      <td>WA</td>\n",
              "      <td>12847615</td>\n",
              "      <td>135</td>\n",
              "      <td>Tesla</td>\n",
              "      <td>Model X</td>\n",
              "      <td>suv</td>\n",
              "      <td>2019</td>\n",
              "    </tr>\n",
              "    <tr>\n",
              "      <th>1</th>\n",
              "      <td>ELECTRIC</td>\n",
              "      <td>5.00</td>\n",
              "      <td>2</td>\n",
              "      <td>1</td>\n",
              "      <td>Tijeras</td>\n",
              "      <td>US</td>\n",
              "      <td>35.111060</td>\n",
              "      <td>-106.276551</td>\n",
              "      <td>NM</td>\n",
              "      <td>15621242</td>\n",
              "      <td>190</td>\n",
              "      <td>Tesla</td>\n",
              "      <td>Model X</td>\n",
              "      <td>suv</td>\n",
              "      <td>2018</td>\n",
              "    </tr>\n",
              "    <tr>\n",
              "      <th>2</th>\n",
              "      <td>HYBRID</td>\n",
              "      <td>4.92</td>\n",
              "      <td>28</td>\n",
              "      <td>24</td>\n",
              "      <td>Albuquerque</td>\n",
              "      <td>US</td>\n",
              "      <td>35.127163</td>\n",
              "      <td>-106.566681</td>\n",
              "      <td>NM</td>\n",
              "      <td>10199256</td>\n",
              "      <td>35</td>\n",
              "      <td>Toyota</td>\n",
              "      <td>Prius</td>\n",
              "      <td>car</td>\n",
              "      <td>2012</td>\n",
              "    </tr>\n",
              "    <tr>\n",
              "      <th>3</th>\n",
              "      <td>GASOLINE</td>\n",
              "      <td>5.00</td>\n",
              "      <td>21</td>\n",
              "      <td>20</td>\n",
              "      <td>Albuquerque</td>\n",
              "      <td>US</td>\n",
              "      <td>35.149726</td>\n",
              "      <td>-106.711425</td>\n",
              "      <td>NM</td>\n",
              "      <td>9365496</td>\n",
              "      <td>75</td>\n",
              "      <td>Ford</td>\n",
              "      <td>Mustang</td>\n",
              "      <td>car</td>\n",
              "      <td>2018</td>\n",
              "    </tr>\n",
              "    <tr>\n",
              "      <th>4</th>\n",
              "      <td>GASOLINE</td>\n",
              "      <td>5.00</td>\n",
              "      <td>3</td>\n",
              "      <td>1</td>\n",
              "      <td>Albuquerque</td>\n",
              "      <td>US</td>\n",
              "      <td>35.208659</td>\n",
              "      <td>-106.601008</td>\n",
              "      <td>NM</td>\n",
              "      <td>3553565</td>\n",
              "      <td>47</td>\n",
              "      <td>Chrysler</td>\n",
              "      <td>Sebring</td>\n",
              "      <td>car</td>\n",
              "      <td>2010</td>\n",
              "    </tr>\n",
              "  </tbody>\n",
              "</table>\n",
              "</div>\n",
              "    <div class=\"colab-df-buttons\">\n",
              "\n",
              "  <div class=\"colab-df-container\">\n",
              "    <button class=\"colab-df-convert\" onclick=\"convertToInteractive('df-8b9d3236-5fec-43e4-aa54-633b39777bbf')\"\n",
              "            title=\"Convert this dataframe to an interactive table.\"\n",
              "            style=\"display:none;\">\n",
              "\n",
              "  <svg xmlns=\"http://www.w3.org/2000/svg\" height=\"24px\" viewBox=\"0 -960 960 960\">\n",
              "    <path d=\"M120-120v-720h720v720H120Zm60-500h600v-160H180v160Zm220 220h160v-160H400v160Zm0 220h160v-160H400v160ZM180-400h160v-160H180v160Zm440 0h160v-160H620v160ZM180-180h160v-160H180v160Zm440 0h160v-160H620v160Z\"/>\n",
              "  </svg>\n",
              "    </button>\n",
              "\n",
              "  <style>\n",
              "    .colab-df-container {\n",
              "      display:flex;\n",
              "      gap: 12px;\n",
              "    }\n",
              "\n",
              "    .colab-df-convert {\n",
              "      background-color: #E8F0FE;\n",
              "      border: none;\n",
              "      border-radius: 50%;\n",
              "      cursor: pointer;\n",
              "      display: none;\n",
              "      fill: #1967D2;\n",
              "      height: 32px;\n",
              "      padding: 0 0 0 0;\n",
              "      width: 32px;\n",
              "    }\n",
              "\n",
              "    .colab-df-convert:hover {\n",
              "      background-color: #E2EBFA;\n",
              "      box-shadow: 0px 1px 2px rgba(60, 64, 67, 0.3), 0px 1px 3px 1px rgba(60, 64, 67, 0.15);\n",
              "      fill: #174EA6;\n",
              "    }\n",
              "\n",
              "    .colab-df-buttons div {\n",
              "      margin-bottom: 4px;\n",
              "    }\n",
              "\n",
              "    [theme=dark] .colab-df-convert {\n",
              "      background-color: #3B4455;\n",
              "      fill: #D2E3FC;\n",
              "    }\n",
              "\n",
              "    [theme=dark] .colab-df-convert:hover {\n",
              "      background-color: #434B5C;\n",
              "      box-shadow: 0px 1px 3px 1px rgba(0, 0, 0, 0.15);\n",
              "      filter: drop-shadow(0px 1px 2px rgba(0, 0, 0, 0.3));\n",
              "      fill: #FFFFFF;\n",
              "    }\n",
              "  </style>\n",
              "\n",
              "    <script>\n",
              "      const buttonEl =\n",
              "        document.querySelector('#df-8b9d3236-5fec-43e4-aa54-633b39777bbf button.colab-df-convert');\n",
              "      buttonEl.style.display =\n",
              "        google.colab.kernel.accessAllowed ? 'block' : 'none';\n",
              "\n",
              "      async function convertToInteractive(key) {\n",
              "        const element = document.querySelector('#df-8b9d3236-5fec-43e4-aa54-633b39777bbf');\n",
              "        const dataTable =\n",
              "          await google.colab.kernel.invokeFunction('convertToInteractive',\n",
              "                                                    [key], {});\n",
              "        if (!dataTable) return;\n",
              "\n",
              "        const docLinkHtml = 'Like what you see? Visit the ' +\n",
              "          '<a target=\"_blank\" href=https://colab.research.google.com/notebooks/data_table.ipynb>data table notebook</a>'\n",
              "          + ' to learn more about interactive tables.';\n",
              "        element.innerHTML = '';\n",
              "        dataTable['output_type'] = 'display_data';\n",
              "        await google.colab.output.renderOutput(dataTable, element);\n",
              "        const docLink = document.createElement('div');\n",
              "        docLink.innerHTML = docLinkHtml;\n",
              "        element.appendChild(docLink);\n",
              "      }\n",
              "    </script>\n",
              "  </div>\n",
              "\n",
              "\n",
              "<div id=\"df-082c597e-015d-4a69-a6e7-f53b4578827d\">\n",
              "  <button class=\"colab-df-quickchart\" onclick=\"quickchart('df-082c597e-015d-4a69-a6e7-f53b4578827d')\"\n",
              "            title=\"Suggest charts\"\n",
              "            style=\"display:none;\">\n",
              "\n",
              "<svg xmlns=\"http://www.w3.org/2000/svg\" height=\"24px\"viewBox=\"0 0 24 24\"\n",
              "     width=\"24px\">\n",
              "    <g>\n",
              "        <path d=\"M19 3H5c-1.1 0-2 .9-2 2v14c0 1.1.9 2 2 2h14c1.1 0 2-.9 2-2V5c0-1.1-.9-2-2-2zM9 17H7v-7h2v7zm4 0h-2V7h2v10zm4 0h-2v-4h2v4z\"/>\n",
              "    </g>\n",
              "</svg>\n",
              "  </button>\n",
              "\n",
              "<style>\n",
              "  .colab-df-quickchart {\n",
              "      --bg-color: #E8F0FE;\n",
              "      --fill-color: #1967D2;\n",
              "      --hover-bg-color: #E2EBFA;\n",
              "      --hover-fill-color: #174EA6;\n",
              "      --disabled-fill-color: #AAA;\n",
              "      --disabled-bg-color: #DDD;\n",
              "  }\n",
              "\n",
              "  [theme=dark] .colab-df-quickchart {\n",
              "      --bg-color: #3B4455;\n",
              "      --fill-color: #D2E3FC;\n",
              "      --hover-bg-color: #434B5C;\n",
              "      --hover-fill-color: #FFFFFF;\n",
              "      --disabled-bg-color: #3B4455;\n",
              "      --disabled-fill-color: #666;\n",
              "  }\n",
              "\n",
              "  .colab-df-quickchart {\n",
              "    background-color: var(--bg-color);\n",
              "    border: none;\n",
              "    border-radius: 50%;\n",
              "    cursor: pointer;\n",
              "    display: none;\n",
              "    fill: var(--fill-color);\n",
              "    height: 32px;\n",
              "    padding: 0;\n",
              "    width: 32px;\n",
              "  }\n",
              "\n",
              "  .colab-df-quickchart:hover {\n",
              "    background-color: var(--hover-bg-color);\n",
              "    box-shadow: 0 1px 2px rgba(60, 64, 67, 0.3), 0 1px 3px 1px rgba(60, 64, 67, 0.15);\n",
              "    fill: var(--button-hover-fill-color);\n",
              "  }\n",
              "\n",
              "  .colab-df-quickchart-complete:disabled,\n",
              "  .colab-df-quickchart-complete:disabled:hover {\n",
              "    background-color: var(--disabled-bg-color);\n",
              "    fill: var(--disabled-fill-color);\n",
              "    box-shadow: none;\n",
              "  }\n",
              "\n",
              "  .colab-df-spinner {\n",
              "    border: 2px solid var(--fill-color);\n",
              "    border-color: transparent;\n",
              "    border-bottom-color: var(--fill-color);\n",
              "    animation:\n",
              "      spin 1s steps(1) infinite;\n",
              "  }\n",
              "\n",
              "  @keyframes spin {\n",
              "    0% {\n",
              "      border-color: transparent;\n",
              "      border-bottom-color: var(--fill-color);\n",
              "      border-left-color: var(--fill-color);\n",
              "    }\n",
              "    20% {\n",
              "      border-color: transparent;\n",
              "      border-left-color: var(--fill-color);\n",
              "      border-top-color: var(--fill-color);\n",
              "    }\n",
              "    30% {\n",
              "      border-color: transparent;\n",
              "      border-left-color: var(--fill-color);\n",
              "      border-top-color: var(--fill-color);\n",
              "      border-right-color: var(--fill-color);\n",
              "    }\n",
              "    40% {\n",
              "      border-color: transparent;\n",
              "      border-right-color: var(--fill-color);\n",
              "      border-top-color: var(--fill-color);\n",
              "    }\n",
              "    60% {\n",
              "      border-color: transparent;\n",
              "      border-right-color: var(--fill-color);\n",
              "    }\n",
              "    80% {\n",
              "      border-color: transparent;\n",
              "      border-right-color: var(--fill-color);\n",
              "      border-bottom-color: var(--fill-color);\n",
              "    }\n",
              "    90% {\n",
              "      border-color: transparent;\n",
              "      border-bottom-color: var(--fill-color);\n",
              "    }\n",
              "  }\n",
              "</style>\n",
              "\n",
              "  <script>\n",
              "    async function quickchart(key) {\n",
              "      const quickchartButtonEl =\n",
              "        document.querySelector('#' + key + ' button');\n",
              "      quickchartButtonEl.disabled = true;  // To prevent multiple clicks.\n",
              "      quickchartButtonEl.classList.add('colab-df-spinner');\n",
              "      try {\n",
              "        const charts = await google.colab.kernel.invokeFunction(\n",
              "            'suggestCharts', [key], {});\n",
              "      } catch (error) {\n",
              "        console.error('Error during call to suggestCharts:', error);\n",
              "      }\n",
              "      quickchartButtonEl.classList.remove('colab-df-spinner');\n",
              "      quickchartButtonEl.classList.add('colab-df-quickchart-complete');\n",
              "    }\n",
              "    (() => {\n",
              "      let quickchartButtonEl =\n",
              "        document.querySelector('#df-082c597e-015d-4a69-a6e7-f53b4578827d button');\n",
              "      quickchartButtonEl.style.display =\n",
              "        google.colab.kernel.accessAllowed ? 'block' : 'none';\n",
              "    })();\n",
              "  </script>\n",
              "</div>\n",
              "\n",
              "    </div>\n",
              "  </div>\n"
            ],
            "text/plain": [
              "   fuelType  rating  renterTripsTaken  reviewCount location.city  \\\n",
              "0  ELECTRIC    5.00                13           12       Seattle   \n",
              "1  ELECTRIC    5.00                 2            1       Tijeras   \n",
              "2    HYBRID    4.92                28           24   Albuquerque   \n",
              "3  GASOLINE    5.00                21           20   Albuquerque   \n",
              "4  GASOLINE    5.00                 3            1   Albuquerque   \n",
              "\n",
              "  location.country  location.latitude  location.longitude location.state  \\\n",
              "0               US          47.449107         -122.308841             WA   \n",
              "1               US          35.111060         -106.276551             NM   \n",
              "2               US          35.127163         -106.566681             NM   \n",
              "3               US          35.149726         -106.711425             NM   \n",
              "4               US          35.208659         -106.601008             NM   \n",
              "\n",
              "   owner.id  rate.daily vehicle.make vehicle.model vehicle.type  vehicle.year  \n",
              "0  12847615         135        Tesla       Model X          suv          2019  \n",
              "1  15621242         190        Tesla       Model X          suv          2018  \n",
              "2  10199256          35       Toyota         Prius          car          2012  \n",
              "3   9365496          75         Ford       Mustang          car          2018  \n",
              "4   3553565          47     Chrysler       Sebring          car          2010  "
            ]
          },
          "execution_count": 7,
          "metadata": {},
          "output_type": "execute_result"
        }
      ],
      "source": [
        "file_path = 'https://github.com/ir89004/DS340-CarRental/raw/main/CarRentalData.csv'  # GitHub CSV location\n",
        "data = pd.read_csv(file_path)\n",
        "\n",
        "print(\"\\nDataset Info:\")\n",
        "data.info()\n",
        "\n",
        "print(\"First 5 rows of the dataset:\")\n",
        "data.head()"
      ]
    },
    {
      "cell_type": "markdown",
      "metadata": {
        "id": "_k8LJyyzeyAB"
      },
      "source": [
        "## Data Cleaning and Preprocessing"
      ]
    },
    {
      "cell_type": "markdown",
      "metadata": {
        "id": "OT2Msgy0fZaI"
      },
      "source": [
        "### Handling missing values\n"
      ]
    },
    {
      "cell_type": "code",
      "execution_count": 8,
      "metadata": {
        "id": "E_peCsfafVwI"
      },
      "outputs": [],
      "source": [
        "data = data.dropna()"
      ]
    },
    {
      "cell_type": "markdown",
      "metadata": {
        "id": "C1jagu0HffLf"
      },
      "source": [
        "### Ensure correct data types"
      ]
    },
    {
      "cell_type": "code",
      "execution_count": 9,
      "metadata": {
        "id": "1cNtbZ_xfeGE"
      },
      "outputs": [],
      "source": [
        "if 'Vehicle Year' in data.columns:\n",
        "    data['Vehicle Year'] = data['Vehicle Year'].astype(int)\n",
        "if 'Rental Price' in data.columns:\n",
        "    data['Rental Price'] = data['Rental Price'].astype(float)"
      ]
    },
    {
      "cell_type": "markdown",
      "metadata": {
        "id": "1rc2wn4uf2k8"
      },
      "source": [
        "No columns need to be dropped"
      ]
    },
    {
      "cell_type": "markdown",
      "metadata": {
        "id": "67IzuKidf7L6"
      },
      "source": [
        "## Exploratory Data Analysis"
      ]
    },
    {
      "cell_type": "markdown",
      "metadata": {
        "id": "Kk7TZD9fhQql"
      },
      "source": [
        "### Car Make and Model Frequency"
      ]
    },
    {
      "cell_type": "code",
      "execution_count": 14,
      "metadata": {
        "colab": {
          "base_uri": "https://localhost:8080/",
          "height": 507
        },
        "id": "3hPSfueZfkd0",
        "outputId": "576dc4f4-8300-46b7-b0cc-4e505fba91ca"
      },
      "outputs": [
        {
          "name": "stdout",
          "output_type": "stream",
          "text": [
            "Car Makes and Models Frequency:\n"
          ]
        },
        {
          "data": {
            "text/html": [
              "<div>\n",
              "<style scoped>\n",
              "    .dataframe tbody tr th:only-of-type {\n",
              "        vertical-align: middle;\n",
              "    }\n",
              "\n",
              "    .dataframe tbody tr th {\n",
              "        vertical-align: top;\n",
              "    }\n",
              "\n",
              "    .dataframe thead th {\n",
              "        text-align: right;\n",
              "    }\n",
              "</style>\n",
              "<table border=\"1\" class=\"dataframe\">\n",
              "  <thead>\n",
              "    <tr style=\"text-align: right;\">\n",
              "      <th></th>\n",
              "      <th>count</th>\n",
              "    </tr>\n",
              "    <tr>\n",
              "      <th>vehicle.model</th>\n",
              "      <th></th>\n",
              "    </tr>\n",
              "  </thead>\n",
              "  <tbody>\n",
              "    <tr>\n",
              "      <th>Model 3</th>\n",
              "      <td>299</td>\n",
              "    </tr>\n",
              "    <tr>\n",
              "      <th>Mustang</th>\n",
              "      <td>139</td>\n",
              "    </tr>\n",
              "    <tr>\n",
              "      <th>Model S</th>\n",
              "      <td>124</td>\n",
              "    </tr>\n",
              "    <tr>\n",
              "      <th>Wrangler</th>\n",
              "      <td>114</td>\n",
              "    </tr>\n",
              "    <tr>\n",
              "      <th>Model X</th>\n",
              "      <td>106</td>\n",
              "    </tr>\n",
              "    <tr>\n",
              "      <th>...</th>\n",
              "      <td>...</td>\n",
              "    </tr>\n",
              "    <tr>\n",
              "      <th>Venza</th>\n",
              "      <td>1</td>\n",
              "    </tr>\n",
              "    <tr>\n",
              "      <th>TT</th>\n",
              "      <td>1</td>\n",
              "    </tr>\n",
              "    <tr>\n",
              "      <th>IS</th>\n",
              "      <td>1</td>\n",
              "    </tr>\n",
              "    <tr>\n",
              "      <th>Explorer Sport Trac</th>\n",
              "      <td>1</td>\n",
              "    </tr>\n",
              "    <tr>\n",
              "      <th>Cooper Coupe</th>\n",
              "      <td>1</td>\n",
              "    </tr>\n",
              "  </tbody>\n",
              "</table>\n",
              "<p>502 rows × 1 columns</p>\n",
              "</div><br><label><b>dtype:</b> int64</label>"
            ],
            "text/plain": [
              "vehicle.model\n",
              "Model 3                299\n",
              "Mustang                139\n",
              "Model S                124\n",
              "Wrangler               114\n",
              "Model X                106\n",
              "                      ... \n",
              "Venza                    1\n",
              "TT                       1\n",
              "IS                       1\n",
              "Explorer Sport Trac      1\n",
              "Cooper Coupe             1\n",
              "Name: count, Length: 502, dtype: int64"
            ]
          },
          "execution_count": 14,
          "metadata": {},
          "output_type": "execute_result"
        }
      ],
      "source": [
        "print(\"Car Makes and Models Frequency:\")\n",
        "data['vehicle.model'].value_counts()"
      ]
    },
    {
      "cell_type": "markdown",
      "metadata": {
        "id": "RKzVXFVRhXIU"
      },
      "source": [
        "### Average Rental Prices by Fuel Type"
      ]
    },
    {
      "cell_type": "code",
      "execution_count": 15,
      "metadata": {
        "colab": {
          "base_uri": "https://localhost:8080/",
          "height": 240
        },
        "id": "x8_rnlR1hgOp",
        "outputId": "da847112-e019-449a-fd81-febb491950d4"
      },
      "outputs": [
        {
          "data": {
            "text/html": [
              "<div>\n",
              "<style scoped>\n",
              "    .dataframe tbody tr th:only-of-type {\n",
              "        vertical-align: middle;\n",
              "    }\n",
              "\n",
              "    .dataframe tbody tr th {\n",
              "        vertical-align: top;\n",
              "    }\n",
              "\n",
              "    .dataframe thead th {\n",
              "        text-align: right;\n",
              "    }\n",
              "</style>\n",
              "<table border=\"1\" class=\"dataframe\">\n",
              "  <thead>\n",
              "    <tr style=\"text-align: right;\">\n",
              "      <th></th>\n",
              "      <th>rate.daily</th>\n",
              "    </tr>\n",
              "    <tr>\n",
              "      <th>fuelType</th>\n",
              "      <th></th>\n",
              "    </tr>\n",
              "  </thead>\n",
              "  <tbody>\n",
              "    <tr>\n",
              "      <th>DIESEL</th>\n",
              "      <td>91.426230</td>\n",
              "    </tr>\n",
              "    <tr>\n",
              "      <th>ELECTRIC</th>\n",
              "      <td>140.376098</td>\n",
              "    </tr>\n",
              "    <tr>\n",
              "      <th>GASOLINE</th>\n",
              "      <td>84.309107</td>\n",
              "    </tr>\n",
              "    <tr>\n",
              "      <th>HYBRID</th>\n",
              "      <td>84.359684</td>\n",
              "    </tr>\n",
              "  </tbody>\n",
              "</table>\n",
              "</div><br><label><b>dtype:</b> float64</label>"
            ],
            "text/plain": [
              "fuelType\n",
              "DIESEL       91.426230\n",
              "ELECTRIC    140.376098\n",
              "GASOLINE     84.309107\n",
              "HYBRID       84.359684\n",
              "Name: rate.daily, dtype: float64"
            ]
          },
          "execution_count": 15,
          "metadata": {},
          "output_type": "execute_result"
        }
      ],
      "source": [
        "data.groupby('fuelType')['rate.daily'].mean()"
      ]
    },
    {
      "cell_type": "markdown",
      "metadata": {
        "id": "optc3ZSehlOH"
      },
      "source": [
        "### Cities with High Demand for Electric Cars"
      ]
    },
    {
      "cell_type": "code",
      "execution_count": 26,
      "metadata": {
        "colab": {
          "base_uri": "https://localhost:8080/"
        },
        "id": "LkEi6GtJhkTD",
        "outputId": "57b80771-198e-4d99-f65e-e3001ee5c529"
      },
      "outputs": [
        {
          "name": "stdout",
          "output_type": "stream",
          "text": [
            "location.city\n",
            "Las Vegas          32\n",
            "San Diego          31\n",
            "Portland           16\n",
            "Jersey City        11\n",
            "Denver             11\n",
            "                   ..\n",
            "Oak Lawn            1\n",
            "Dracut              1\n",
            "Cutler Bay          1\n",
            "South Milwaukee     1\n",
            "Ewa Beach           1\n",
            "Name: count, Length: 262, dtype: int64\n"
          ]
        }
      ],
      "source": [
        "if 'location.city' in data.columns and 'vehicle.make' in data.columns:\n",
        "    print(data[data['vehicle.make'] == 'Tesla']['location.city'].value_counts())\n"
      ]
    },
    {
      "cell_type": "markdown",
      "metadata": {
        "id": "leishGxQh5Cf"
      },
      "source": [
        "### Visualizations"
      ]
    },
    {
      "cell_type": "code",
      "execution_count": 19,
      "metadata": {
        "colab": {
          "base_uri": "https://localhost:8080/",
          "height": 1000
        },
        "id": "SgIQJaYThuSC",
        "outputId": "a33d0855-65fe-4e02-e566-1e07e3790911"
      },
      "outputs": [
        {
          "data": {
            "image/png": "[encoded data removed]",
            "text/plain": [
              "<Figure size 1000x600 with 1 Axes>"
            ]
          },
          "metadata": {},
          "output_type": "display_data"
        },
        {
          "data": {
            "image/png": "[encoded data removed]",
            "text/plain": [
              "<Figure size 1000x600 with 1 Axes>"
            ]
          },
          "metadata": {},
          "output_type": "display_data"
        }
      ],
      "source": [
        "plt.figure(figsize=(10, 6))\n",
        "sns.barplot(x=data['fuelType'], y=data['rate.daily'], estimator=np.mean)\n",
        "plt.title(\"Average Rental Price by Fuel Type\")\n",
        "plt.show()\n",
        "\n",
        "plt.figure(figsize=(10, 6))\n",
        "sns.histplot(data['vehicle.year'], kde=True)\n",
        "plt.title(\"Vehicle Year Distribution\")\n",
        "plt.show()\n"
      ]
    },
    {
      "cell_type": "markdown",
      "metadata": {
        "id": "qGtpg1C2iB36"
      },
      "source": [
        "## Advanced Analytics"
      ]
    },
    {
      "cell_type": "markdown",
      "metadata": {
        "id": "UD8JYXA_iUmV"
      },
      "source": [
        "Simple Linear Regression: Rental Price vs Vehicle Year"
      ]
    },
    {
      "cell_type": "code",
      "execution_count": 20,
      "metadata": {
        "colab": {
          "base_uri": "https://localhost:8080/",
          "height": 521
        },
        "id": "umoRGqTziKyg",
        "outputId": "ba78a50f-c7b7-4c67-9970-fc142257623b"
      },
      "outputs": [
        {
          "name": "stdout",
          "output_type": "stream",
          "text": [
            "Regression Coefficients: [1.93504758]\n",
            "Intercept: -3810.3277310823496\n",
            "Mean Squared Error: 8813.519472861122\n",
            "R^2 Score: -0.009368316467085247\n"
          ]
        },
        {
          "data": {
            "image/png": "[encoded data removed]",
            "text/plain": [
              "<Figure size 640x480 with 1 Axes>"
            ]
          },
          "metadata": {},
          "output_type": "display_data"
        }
      ],
      "source": [
        "X = data[['vehicle.year']]\n",
        "y = data['rate.daily']\n",
        "\n",
        "X_train, X_test, y_train, y_test = train_test_split(X, y, test_size=0.2, random_state=42)\n",
        "\n",
        "model = LinearRegression()\n",
        "model.fit(X_train, y_train)\n",
        "\n",
        "y_pred = model.predict(X_test)\n",
        "\n",
        "print(\"Regression Coefficients:\", model.coef_)\n",
        "print(\"Intercept:\", model.intercept_)\n",
        "print(\"Mean Squared Error:\", mean_squared_error(y_test, y_pred))\n",
        "print(\"R^2 Score:\", r2_score(y_test, y_pred))\n",
        "\n",
        "plt.scatter(X_test, y_test, color='blue', label='Actual')\n",
        "plt.plot(X_test, y_pred, color='red', label='Predicted')\n",
        "plt.title(\"Regression: Rental Price vs Vehicle Year\")\n",
        "plt.legend()\n",
        "plt.show()"
      ]
    },
    {
      "cell_type": "markdown",
      "metadata": {
        "id": "O020S7BBibLf"
      },
      "source": [
        "### Recommendations"
      ]
    },
    {
      "cell_type": "markdown",
      "metadata": {
        "id": "FRITc8aWihSG"
      },
      "source": [
        "### Popular Car Models to Stock"
      ]
    },
    {
      "cell_type": "code",
      "execution_count": 22,
      "metadata": {
        "colab": {
          "base_uri": "https://localhost:8080/",
          "height": 272
        },
        "id": "B7y9aw9riZ7E",
        "outputId": "bb5567e5-1332-469d-a27b-bae3bcbe3418"
      },
      "outputs": [
        {
          "data": {
            "text/html": [
              "<div>\n",
              "<style scoped>\n",
              "    .dataframe tbody tr th:only-of-type {\n",
              "        vertical-align: middle;\n",
              "    }\n",
              "\n",
              "    .dataframe tbody tr th {\n",
              "        vertical-align: top;\n",
              "    }\n",
              "\n",
              "    .dataframe thead th {\n",
              "        text-align: right;\n",
              "    }\n",
              "</style>\n",
              "<table border=\"1\" class=\"dataframe\">\n",
              "  <thead>\n",
              "    <tr style=\"text-align: right;\">\n",
              "      <th></th>\n",
              "      <th>count</th>\n",
              "    </tr>\n",
              "    <tr>\n",
              "      <th>vehicle.model</th>\n",
              "      <th></th>\n",
              "    </tr>\n",
              "  </thead>\n",
              "  <tbody>\n",
              "    <tr>\n",
              "      <th>Model 3</th>\n",
              "      <td>299</td>\n",
              "    </tr>\n",
              "    <tr>\n",
              "      <th>Mustang</th>\n",
              "      <td>139</td>\n",
              "    </tr>\n",
              "    <tr>\n",
              "      <th>Model S</th>\n",
              "      <td>124</td>\n",
              "    </tr>\n",
              "    <tr>\n",
              "      <th>Wrangler</th>\n",
              "      <td>114</td>\n",
              "    </tr>\n",
              "    <tr>\n",
              "      <th>Model X</th>\n",
              "      <td>106</td>\n",
              "    </tr>\n",
              "  </tbody>\n",
              "</table>\n",
              "</div><br><label><b>dtype:</b> int64</label>"
            ],
            "text/plain": [
              "vehicle.model\n",
              "Model 3     299\n",
              "Mustang     139\n",
              "Model S     124\n",
              "Wrangler    114\n",
              "Model X     106\n",
              "Name: count, dtype: int64"
            ]
          },
          "execution_count": 22,
          "metadata": {},
          "output_type": "execute_result"
        }
      ],
      "source": [
        "data['vehicle.model'].value_counts().head(5)"
      ]
    },
    {
      "cell_type": "markdown",
      "metadata": {
        "id": "y8f2kAALiy-Q"
      },
      "source": [
        "### Pricing Strategies"
      ]
    },
    {
      "cell_type": "code",
      "execution_count": 23,
      "metadata": {
        "colab": {
          "base_uri": "https://localhost:8080/",
          "height": 206
        },
        "id": "h-dhffaQiwg2",
        "outputId": "0e82b3fa-607e-4a83-e2be-37a361761c5d"
      },
      "outputs": [
        {
          "data": {
            "application/vnd.google.colaboratory.intrinsic+json": {
              "summary": "{\n  \"name\": \"data\",\n  \"rows\": 4,\n  \"fields\": [\n    {\n      \"column\": \"fuelType\",\n      \"properties\": {\n        \"dtype\": \"string\",\n        \"num_unique_values\": 4,\n        \"samples\": [\n          \"ELECTRIC\",\n          \"HYBRID\",\n          \"DIESEL\"\n        ],\n        \"semantic_type\": \"\",\n        \"description\": \"\"\n      }\n    },\n    {\n      \"column\": \"count\",\n      \"properties\": {\n        \"dtype\": \"number\",\n        \"std\": 2064.9819208248127,\n        \"min\": 61.0,\n        \"max\": 4403.0,\n        \"num_unique_values\": 4,\n        \"samples\": [\n          569.0,\n          253.0,\n          61.0\n        ],\n        \"semantic_type\": \"\",\n        \"description\": \"\"\n      }\n    },\n    {\n      \"column\": \"mean\",\n      \"properties\": {\n        \"dtype\": \"number\",\n        \"std\": 27.04629966292332,\n        \"min\": 84.30910742675448,\n        \"max\": 140.37609841827768,\n        \"num_unique_values\": 4,\n        \"samples\": [\n          140.37609841827768,\n          84.3596837944664,\n          91.42622950819673\n        ],\n        \"semantic_type\": \"\",\n        \"description\": \"\"\n      }\n    },\n    {\n      \"column\": \"std\",\n      \"properties\": {\n        \"dtype\": \"number\",\n        \"std\": 22.35093842738236,\n        \"min\": 49.17094637296616,\n        \"max\": 97.69978044147449,\n        \"num_unique_values\": 4,\n        \"samples\": [\n          61.87808201085746,\n          97.69978044147449,\n          49.17094637296616\n        ],\n        \"semantic_type\": \"\",\n        \"description\": \"\"\n      }\n    },\n    {\n      \"column\": \"min\",\n      \"properties\": {\n        \"dtype\": \"number\",\n        \"std\": 8.88350531415762,\n        \"min\": 20.0,\n        \"max\": 40.0,\n        \"num_unique_values\": 4,\n        \"samples\": [\n          40.0,\n          23.0,\n          30.0\n        ],\n        \"semantic_type\": \"\",\n        \"description\": \"\"\n      }\n    },\n    {\n      \"column\": \"25%\",\n      \"properties\": {\n        \"dtype\": \"number\",\n        \"std\": 28.861739379323623,\n        \"min\": 36.0,\n        \"max\": 100.0,\n        \"num_unique_values\": 4,\n        \"samples\": [\n          100.0,\n          36.0,\n          60.0\n        ],\n        \"semantic_type\": \"\",\n        \"description\": \"\"\n      }\n    },\n    {\n      \"column\": \"50%\",\n      \"properties\": {\n        \"dtype\": \"number\",\n        \"std\": 36.114401559488705,\n        \"min\": 47.0,\n        \"max\": 130.0,\n        \"num_unique_values\": 4,\n        \"samples\": [\n          130.0,\n          47.0,\n          80.0\n        ],\n        \"semantic_type\": \"\",\n        \"description\": \"\"\n      }\n    },\n    {\n      \"column\": \"75%\",\n      \"properties\": {\n        \"dtype\": \"number\",\n        \"std\": 41.339045304247975,\n        \"min\": 68.0,\n        \"max\": 166.0,\n        \"num_unique_values\": 4,\n        \"samples\": [\n          166.0,\n          68.0,\n          108.0\n        ],\n        \"semantic_type\": \"\",\n        \"description\": \"\"\n      }\n    },\n    {\n      \"column\": \"max\",\n      \"properties\": {\n        \"dtype\": \"number\",\n        \"std\": 518.1598048221546,\n        \"min\": 275.0,\n        \"max\": 1500.0,\n        \"num_unique_values\": 4,\n        \"samples\": [\n          800.0,\n          600.0,\n          275.0\n        ],\n        \"semantic_type\": \"\",\n        \"description\": \"\"\n      }\n    }\n  ]\n}",
              "type": "dataframe"
            },
            "text/html": [
              "\n",
              "  <div id=\"df-de75a346-05c3-4c1a-968a-5813deb6bedb\" class=\"colab-df-container\">\n",
              "    <div>\n",
              "<style scoped>\n",
              "    .dataframe tbody tr th:only-of-type {\n",
              "        vertical-align: middle;\n",
              "    }\n",
              "\n",
              "    .dataframe tbody tr th {\n",
              "        vertical-align: top;\n",
              "    }\n",
              "\n",
              "    .dataframe thead th {\n",
              "        text-align: right;\n",
              "    }\n",
              "</style>\n",
              "<table border=\"1\" class=\"dataframe\">\n",
              "  <thead>\n",
              "    <tr style=\"text-align: right;\">\n",
              "      <th></th>\n",
              "      <th>count</th>\n",
              "      <th>mean</th>\n",
              "      <th>std</th>\n",
              "      <th>min</th>\n",
              "      <th>25%</th>\n",
              "      <th>50%</th>\n",
              "      <th>75%</th>\n",
              "      <th>max</th>\n",
              "    </tr>\n",
              "    <tr>\n",
              "      <th>fuelType</th>\n",
              "      <th></th>\n",
              "      <th></th>\n",
              "      <th></th>\n",
              "      <th></th>\n",
              "      <th></th>\n",
              "      <th></th>\n",
              "      <th></th>\n",
              "      <th></th>\n",
              "    </tr>\n",
              "  </thead>\n",
              "  <tbody>\n",
              "    <tr>\n",
              "      <th>DIESEL</th>\n",
              "      <td>61.0</td>\n",
              "      <td>91.426230</td>\n",
              "      <td>49.170946</td>\n",
              "      <td>30.0</td>\n",
              "      <td>60.0</td>\n",
              "      <td>80.0</td>\n",
              "      <td>108.0</td>\n",
              "      <td>275.0</td>\n",
              "    </tr>\n",
              "    <tr>\n",
              "      <th>ELECTRIC</th>\n",
              "      <td>569.0</td>\n",
              "      <td>140.376098</td>\n",
              "      <td>61.878082</td>\n",
              "      <td>40.0</td>\n",
              "      <td>100.0</td>\n",
              "      <td>130.0</td>\n",
              "      <td>166.0</td>\n",
              "      <td>800.0</td>\n",
              "    </tr>\n",
              "    <tr>\n",
              "      <th>GASOLINE</th>\n",
              "      <td>4403.0</td>\n",
              "      <td>84.309107</td>\n",
              "      <td>87.175446</td>\n",
              "      <td>20.0</td>\n",
              "      <td>42.0</td>\n",
              "      <td>62.0</td>\n",
              "      <td>95.0</td>\n",
              "      <td>1500.0</td>\n",
              "    </tr>\n",
              "    <tr>\n",
              "      <th>HYBRID</th>\n",
              "      <td>253.0</td>\n",
              "      <td>84.359684</td>\n",
              "      <td>97.699780</td>\n",
              "      <td>23.0</td>\n",
              "      <td>36.0</td>\n",
              "      <td>47.0</td>\n",
              "      <td>68.0</td>\n",
              "      <td>600.0</td>\n",
              "    </tr>\n",
              "  </tbody>\n",
              "</table>\n",
              "</div>\n",
              "    <div class=\"colab-df-buttons\">\n",
              "\n",
              "  <div class=\"colab-df-container\">\n",
              "    <button class=\"colab-df-convert\" onclick=\"convertToInteractive('df-de75a346-05c3-4c1a-968a-5813deb6bedb')\"\n",
              "            title=\"Convert this dataframe to an interactive table.\"\n",
              "            style=\"display:none;\">\n",
              "\n",
              "  <svg xmlns=\"http://www.w3.org/2000/svg\" height=\"24px\" viewBox=\"0 -960 960 960\">\n",
              "    <path d=\"M120-120v-720h720v720H120Zm60-500h600v-160H180v160Zm220 220h160v-160H400v160Zm0 220h160v-160H400v160ZM180-400h160v-160H180v160Zm440 0h160v-160H620v160ZM180-180h160v-160H180v160Zm440 0h160v-160H620v160Z\"/>\n",
              "  </svg>\n",
              "    </button>\n",
              "\n",
              "  <style>\n",
              "    .colab-df-container {\n",
              "      display:flex;\n",
              "      gap: 12px;\n",
              "    }\n",
              "\n",
              "    .colab-df-convert {\n",
              "      background-color: #E8F0FE;\n",
              "      border: none;\n",
              "      border-radius: 50%;\n",
              "      cursor: pointer;\n",
              "      display: none;\n",
              "      fill: #1967D2;\n",
              "      height: 32px;\n",
              "      padding: 0 0 0 0;\n",
              "      width: 32px;\n",
              "    }\n",
              "\n",
              "    .colab-df-convert:hover {\n",
              "      background-color: #E2EBFA;\n",
              "      box-shadow: 0px 1px 2px rgba(60, 64, 67, 0.3), 0px 1px 3px 1px rgba(60, 64, 67, 0.15);\n",
              "      fill: #174EA6;\n",
              "    }\n",
              "\n",
              "    .colab-df-buttons div {\n",
              "      margin-bottom: 4px;\n",
              "    }\n",
              "\n",
              "    [theme=dark] .colab-df-convert {\n",
              "      background-color: #3B4455;\n",
              "      fill: #D2E3FC;\n",
              "    }\n",
              "\n",
              "    [theme=dark] .colab-df-convert:hover {\n",
              "      background-color: #434B5C;\n",
              "      box-shadow: 0px 1px 3px 1px rgba(0, 0, 0, 0.15);\n",
              "      filter: drop-shadow(0px 1px 2px rgba(0, 0, 0, 0.3));\n",
              "      fill: #FFFFFF;\n",
              "    }\n",
              "  </style>\n",
              "\n",
              "    <script>\n",
              "      const buttonEl =\n",
              "        document.querySelector('#df-de75a346-05c3-4c1a-968a-5813deb6bedb button.colab-df-convert');\n",
              "      buttonEl.style.display =\n",
              "        google.colab.kernel.accessAllowed ? 'block' : 'none';\n",
              "\n",
              "      async function convertToInteractive(key) {\n",
              "        const element = document.querySelector('#df-de75a346-05c3-4c1a-968a-5813deb6bedb');\n",
              "        const dataTable =\n",
              "          await google.colab.kernel.invokeFunction('convertToInteractive',\n",
              "                                                    [key], {});\n",
              "        if (!dataTable) return;\n",
              "\n",
              "        const docLinkHtml = 'Like what you see? Visit the ' +\n",
              "          '<a target=\"_blank\" href=https://colab.research.google.com/notebooks/data_table.ipynb>data table notebook</a>'\n",
              "          + ' to learn more about interactive tables.';\n",
              "        element.innerHTML = '';\n",
              "        dataTable['output_type'] = 'display_data';\n",
              "        await google.colab.output.renderOutput(dataTable, element);\n",
              "        const docLink = document.createElement('div');\n",
              "        docLink.innerHTML = docLinkHtml;\n",
              "        element.appendChild(docLink);\n",
              "      }\n",
              "    </script>\n",
              "  </div>\n",
              "\n",
              "\n",
              "<div id=\"df-84c832a5-becf-4c1a-94aa-9b95d90bb132\">\n",
              "  <button class=\"colab-df-quickchart\" onclick=\"quickchart('df-84c832a5-becf-4c1a-94aa-9b95d90bb132')\"\n",
              "            title=\"Suggest charts\"\n",
              "            style=\"display:none;\">\n",
              "\n",
              "<svg xmlns=\"http://www.w3.org/2000/svg\" height=\"24px\"viewBox=\"0 0 24 24\"\n",
              "     width=\"24px\">\n",
              "    <g>\n",
              "        <path d=\"M19 3H5c-1.1 0-2 .9-2 2v14c0 1.1.9 2 2 2h14c1.1 0 2-.9 2-2V5c0-1.1-.9-2-2-2zM9 17H7v-7h2v7zm4 0h-2V7h2v10zm4 0h-2v-4h2v4z\"/>\n",
              "    </g>\n",
              "</svg>\n",
              "  </button>\n",
              "\n",
              "<style>\n",
              "  .colab-df-quickchart {\n",
              "      --bg-color: #E8F0FE;\n",
              "      --fill-color: #1967D2;\n",
              "      --hover-bg-color: #E2EBFA;\n",
              "      --hover-fill-color: #174EA6;\n",
              "      --disabled-fill-color: #AAA;\n",
              "      --disabled-bg-color: #DDD;\n",
              "  }\n",
              "\n",
              "  [theme=dark] .colab-df-quickchart {\n",
              "      --bg-color: #3B4455;\n",
              "      --fill-color: #D2E3FC;\n",
              "      --hover-bg-color: #434B5C;\n",
              "      --hover-fill-color: #FFFFFF;\n",
              "      --disabled-bg-color: #3B4455;\n",
              "      --disabled-fill-color: #666;\n",
              "  }\n",
              "\n",
              "  .colab-df-quickchart {\n",
              "    background-color: var(--bg-color);\n",
              "    border: none;\n",
              "    border-radius: 50%;\n",
              "    cursor: pointer;\n",
              "    display: none;\n",
              "    fill: var(--fill-color);\n",
              "    height: 32px;\n",
              "    padding: 0;\n",
              "    width: 32px;\n",
              "  }\n",
              "\n",
              "  .colab-df-quickchart:hover {\n",
              "    background-color: var(--hover-bg-color);\n",
              "    box-shadow: 0 1px 2px rgba(60, 64, 67, 0.3), 0 1px 3px 1px rgba(60, 64, 67, 0.15);\n",
              "    fill: var(--button-hover-fill-color);\n",
              "  }\n",
              "\n",
              "  .colab-df-quickchart-complete:disabled,\n",
              "  .colab-df-quickchart-complete:disabled:hover {\n",
              "    background-color: var(--disabled-bg-color);\n",
              "    fill: var(--disabled-fill-color);\n",
              "    box-shadow: none;\n",
              "  }\n",
              "\n",
              "  .colab-df-spinner {\n",
              "    border: 2px solid var(--fill-color);\n",
              "    border-color: transparent;\n",
              "    border-bottom-color: var(--fill-color);\n",
              "    animation:\n",
              "      spin 1s steps(1) infinite;\n",
              "  }\n",
              "\n",
              "  @keyframes spin {\n",
              "    0% {\n",
              "      border-color: transparent;\n",
              "      border-bottom-color: var(--fill-color);\n",
              "      border-left-color: var(--fill-color);\n",
              "    }\n",
              "    20% {\n",
              "      border-color: transparent;\n",
              "      border-left-color: var(--fill-color);\n",
              "      border-top-color: var(--fill-color);\n",
              "    }\n",
              "    30% {\n",
              "      border-color: transparent;\n",
              "      border-left-color: var(--fill-color);\n",
              "      border-top-color: var(--fill-color);\n",
              "      border-right-color: var(--fill-color);\n",
              "    }\n",
              "    40% {\n",
              "      border-color: transparent;\n",
              "      border-right-color: var(--fill-color);\n",
              "      border-top-color: var(--fill-color);\n",
              "    }\n",
              "    60% {\n",
              "      border-color: transparent;\n",
              "      border-right-color: var(--fill-color);\n",
              "    }\n",
              "    80% {\n",
              "      border-color: transparent;\n",
              "      border-right-color: var(--fill-color);\n",
              "      border-bottom-color: var(--fill-color);\n",
              "    }\n",
              "    90% {\n",
              "      border-color: transparent;\n",
              "      border-bottom-color: var(--fill-color);\n",
              "    }\n",
              "  }\n",
              "</style>\n",
              "\n",
              "  <script>\n",
              "    async function quickchart(key) {\n",
              "      const quickchartButtonEl =\n",
              "        document.querySelector('#' + key + ' button');\n",
              "      quickchartButtonEl.disabled = true;  // To prevent multiple clicks.\n",
              "      quickchartButtonEl.classList.add('colab-df-spinner');\n",
              "      try {\n",
              "        const charts = await google.colab.kernel.invokeFunction(\n",
              "            'suggestCharts', [key], {});\n",
              "      } catch (error) {\n",
              "        console.error('Error during call to suggestCharts:', error);\n",
              "      }\n",
              "      quickchartButtonEl.classList.remove('colab-df-spinner');\n",
              "      quickchartButtonEl.classList.add('colab-df-quickchart-complete');\n",
              "    }\n",
              "    (() => {\n",
              "      let quickchartButtonEl =\n",
              "        document.querySelector('#df-84c832a5-becf-4c1a-94aa-9b95d90bb132 button');\n",
              "      quickchartButtonEl.style.display =\n",
              "        google.colab.kernel.accessAllowed ? 'block' : 'none';\n",
              "    })();\n",
              "  </script>\n",
              "</div>\n",
              "\n",
              "    </div>\n",
              "  </div>\n"
            ],
            "text/plain": [
              "           count        mean        std   min    25%    50%    75%     max\n",
              "fuelType                                                                  \n",
              "DIESEL      61.0   91.426230  49.170946  30.0   60.0   80.0  108.0   275.0\n",
              "ELECTRIC   569.0  140.376098  61.878082  40.0  100.0  130.0  166.0   800.0\n",
              "GASOLINE  4403.0   84.309107  87.175446  20.0   42.0   62.0   95.0  1500.0\n",
              "HYBRID     253.0   84.359684  97.699780  23.0   36.0   47.0   68.0   600.0"
            ]
          },
          "execution_count": 23,
          "metadata": {},
          "output_type": "execute_result"
        }
      ],
      "source": [
        "data.groupby('fuelType')['rate.daily'].describe()"
      ]
    },
    {
      "cell_type": "markdown",
      "metadata": {
        "id": "qPYfRTYri8k7"
      },
      "source": [
        "### Marketing Strategies for Underutilized Vehicles"
      ]
    },
    {
      "cell_type": "code",
      "execution_count": 27,
      "metadata": {
        "colab": {
          "base_uri": "https://localhost:8080/",
          "height": 805
        },
        "id": "VZko01R_i6qa",
        "outputId": "0e340584-13a6-4057-b317-8299d6b57124"
      },
      "outputs": [
        {
          "name": "stdout",
          "output_type": "stream",
          "text": [
            "Underutilized models: vehicle.model\n",
            "Venza                  1\n",
            "TT                     1\n",
            "IS                     1\n",
            "Explorer Sport Trac    1\n",
            "Cooper Coupe           1\n",
            "Name: count, dtype: int64\n"
          ]
        },
        {
          "data": {
            "image/png": "[encoded data removed]",
            "text/plain": [
              "<Figure size 1000x600 with 1 Axes>"
            ]
          },
          "metadata": {},
          "output_type": "display_data"
        }
      ],
      "source": [
        "underutilized = data['vehicle.model'].value_counts().tail(5)\n",
        "print(\"Underutilized models:\", underutilized)\n",
        "\n",
        "plt.figure(figsize=(10, 6))\n",
        "underutilized.plot(kind='bar', color='orange')\n",
        "plt.title(\"Underutilized Vehicle Models\")\n",
        "plt.xlabel(\"Vehicle Model\")\n",
        "plt.ylabel(\"Number of Rentals\")\n",
        "plt.show()\n"
      ]
    },
    {
      "cell_type": "code",
      "execution_count": null,
      "metadata": {
        "id": "QYl8DaEbjC6F"
      },
      "outputs": [],
      "source": []
    }
  ],
  "metadata": {
    "colab": {
      "provenance": []
    },
    "kernelspec": {
      "display_name": "Python 3",
      "name": "python3"
    },
    "language_info": {
      "name": "python"
    }
  },
  "nbformat": 4,
  "nbformat_minor": 0
}
